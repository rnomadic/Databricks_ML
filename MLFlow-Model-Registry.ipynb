{
  "nbformat": 4,
  "nbformat_minor": 0,
  "metadata": {
    "colab": {
      "name": "Copy of Untitled1.ipynb",
      "provenance": [],
      "authorship_tag": "ABX9TyPdAJFfqXiKWqGMlZzeJX98",
      "include_colab_link": true
    },
    "kernelspec": {
      "name": "python3",
      "display_name": "Python 3"
    },
    "language_info": {
      "name": "python"
    }
  },
  "cells": [
    {
      "cell_type": "markdown",
      "metadata": {
        "id": "view-in-github",
        "colab_type": "text"
      },
      "source": [
        "<a href=\"https://colab.research.google.com/github/rnomadic/Databricks_ML/blob/main/MLFlow-Model-Registry.ipynb\" target=\"_parent\"><img src=\"https://colab.research.google.com/assets/colab-badge.svg\" alt=\"Open In Colab\"/></a>"
      ]
    },
    {
      "cell_type": "code",
      "execution_count": null,
      "metadata": {
        "id": "GMdqNizPv8kk"
      },
      "outputs": [],
      "source": [
        "\"\"\"\n",
        "*******************    MLFlow Model Registry    *********************\n",
        "\n",
        "The MLflow Model Registry component is a centralized model store, set of APIs, \n",
        "and UI, to collaboratively manage the full lifecycle of an MLflow Model. \n",
        "It provides \n",
        "1> model lineage (which MLflow Experiment and Run produced the model), \n",
        "2> model versioning, \n",
        "3> stage transitions (e.g. from staging to production), \n",
        "4> annotations (e.g. with comments, tags), and \n",
        "5> deployment management (e.g. which production jobs have requested a specific model version).\n",
        "\n",
        "\n",
        "Central Repository: Register MLflow models with the MLflow Model Registry. \n",
        "A registered model has a unique name, version, stage, and other metadata.\n",
        "\n",
        "Model Versioning: Automatically keep track of versions for registered models when updated.\n",
        "\n",
        "Model Stage: Assigned preset or custom stages to each model version, \n",
        "like “Staging” and “Production” to represent the lifecycle of a model.\n",
        "\n",
        "Model Stage Transitions: Record new registration events or changes as activities \n",
        "that automatically log users, changes, and additional metadata such as comments.\n",
        "\n",
        "CI/CD Workflow Integration: Record stage transitions, request, review \n",
        "and approve changes as part of CI/CD pipelines for better control and governance.\n",
        "\"\"\"\n",
        "\n"
      ]
    }
  ]
}