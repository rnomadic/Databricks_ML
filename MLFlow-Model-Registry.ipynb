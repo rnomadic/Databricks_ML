{
  "nbformat": 4,
  "nbformat_minor": 0,
  "metadata": {
    "colab": {
      "name": "Copy of Untitled1.ipynb",
      "provenance": [],
      "authorship_tag": "ABX9TyNo3/yvnBtX3hSk+omlmXat",
      "include_colab_link": true
    },
    "kernelspec": {
      "name": "python3",
      "display_name": "Python 3"
    },
    "language_info": {
      "name": "python"
    }
  },
  "cells": [
    {
      "cell_type": "markdown",
      "metadata": {
        "id": "view-in-github",
        "colab_type": "text"
      },
      "source": [
        "<a href=\"https://colab.research.google.com/github/rnomadic/Databricks_ML/blob/main/MLFlow-Model-Registry.ipynb\" target=\"_parent\"><img src=\"https://colab.research.google.com/assets/colab-badge.svg\" alt=\"Open In Colab\"/></a>"
      ]
    },
    {
      "cell_type": "code",
      "execution_count": null,
      "metadata": {
        "id": "GMdqNizPv8kk"
      },
      "outputs": [],
      "source": [
        "\"\"\"\n",
        "*******************    MLFlow Model Registry    *********************\n",
        "Save as MLFlow-Model-Registry.ipynb\n",
        "\n",
        "\n",
        "The MLflow Model Registry component is a centralized model store, set of APIs, \n",
        "and UI, to collaboratively manage the full lifecycle of an MLflow Model. \n",
        "It provides \n",
        "1> model lineage (which MLflow Experiment and Run produced the model), \n",
        "2> model versioning, \n",
        "3> stage transitions (e.g. from staging to production), \n",
        "4> annotations (e.g. with comments, tags), and \n",
        "5> deployment management (e.g. which production jobs have requested a specific model version).\n",
        "\n",
        "\n",
        "Central Repository: Register MLflow models with the MLflow Model Registry. \n",
        "A registered model has a unique name, version, stage, and other metadata.\n",
        "\n",
        "Model Versioning: Automatically keep track of versions for registered models when updated.\n",
        "\n",
        "Model Stage: Assigned preset or custom stages to each model version, \n",
        "like “Staging” and “Production” to represent the lifecycle of a model.\n",
        "\n",
        "Model Stage Transitions: Record new registration events or changes as activities \n",
        "that automatically log users, changes, and additional metadata such as comments.\n",
        "\n",
        "CI/CD Workflow Integration: Record stage transitions, request, review \n",
        "and approve changes as part of CI/CD pipelines for better control and governance.\n",
        "\n",
        "https://mlflow.org/docs/latest/registry.html\n",
        "https://docs.databricks.com/applications/mlflow/databricks-autologging.html\n",
        "\n",
        "here are a few ways to use autologging:\n",
        "\n",
        "Call mlflow.autolog() before your training code. This will enable autologging \n",
        "for each supported library you have installed as soon as you import it.\n",
        "\n",
        "Enable autologging at the workspace level from the admin console\n",
        "\n",
        "Use library-specific autolog calls for each library you use in your code. \n",
        "(e.g. mlflow.spark.autolog())\n",
        "\"\"\"\n",
        "\n",
        "import mlflow\n",
        "import mlflow.sklearn\n",
        "from mlflow.models.signature import infer_signature\n",
        "\n",
        "import pandas as pd\n",
        "from sklearn.linear_model import LinearRegression\n",
        "from sklearn.metrics import mean_squared_error\n",
        "from sklearn.model_selection import train_test_split\n",
        "\n",
        "df = pd.read_csv(f\"{datasets_dir}/airbnb/sf-listings/airbnb-cleaned-mlflow.csv\".replace(\"dbfs:/\", \"/dbfs/\"))\n",
        "\n",
        "X_train, X_test, y_train, y_test =  train_test_split(df.drop([\"price\"], axis=1), df[[\"price\"]].values.ravel(), random_state=42)\n",
        "\n",
        "with mlflow.start_run(run_name=\"LR Model\") as run:\n",
        "    mlflow.sklearn.autolog(log_input_example=True, log_model_signatures=True, log_models=True)\n",
        "    lr = LinearRegression()\n",
        "    lr.fit(X_train, y_train)\n",
        "    signature = infer_signature(X_train, lr.predict(X_train))\n",
        "\n",
        "    "
      ]
    }
  ]
}