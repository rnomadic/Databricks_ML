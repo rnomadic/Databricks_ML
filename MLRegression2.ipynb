{
  "nbformat": 4,
  "nbformat_minor": 0,
  "metadata": {
    "colab": {
      "name": "Copy of Untitled1.ipynb",
      "provenance": [],
      "authorship_tag": "ABX9TyPTTnv4nC+aQPMx3+6kwRFK",
      "include_colab_link": true
    },
    "kernelspec": {
      "name": "python3",
      "display_name": "Python 3"
    },
    "language_info": {
      "name": "python"
    }
  },
  "cells": [
    {
      "cell_type": "markdown",
      "metadata": {
        "id": "view-in-github",
        "colab_type": "text"
      },
      "source": [
        "<a href=\"https://colab.research.google.com/github/rnomadic/Databricks_ML/blob/main/MLRegression2.ipynb\" target=\"_parent\"><img src=\"https://colab.research.google.com/assets/colab-badge.svg\" alt=\"Open In Colab\"/></a>"
      ]
    },
    {
      "cell_type": "code",
      "execution_count": null,
      "metadata": {
        "id": "GMdqNizPv8kk"
      },
      "outputs": [],
      "source": [
        "## One hot encoder\n",
        "from pyspark.ml.feature import OneHotEncoder, StringIndexer\n",
        "\n",
        "categorical_cols = [field for (field, dataType) in train_df.dtypes if dataType == \"string\"]\n",
        "index_output_cols = [x + \"Index\" for x in categorical_cols]\n",
        "ohe_output_cols = [x + \"OHE\" for x in categorical_cols]\n",
        "\n",
        "string_indexer = StringIndexer(inputCols=categorical_cols, outputCols=index_output_cols, handleInvalid=\"skip\")\n",
        "ohe_encoder = OneHotEncoder(inputCols=index_output_cols, outputCols=ohe_output_cols)\n",
        "\n",
        "## Vector Assembler\n",
        "from pyspark.ml.feature import VectorAssembler\n",
        "\n",
        "numeric_cols = [field for (field, dataType) in train_df.dtypes if ((dataType == \"double\") & (field != \"price\"))]\n",
        "assembler_inputs = ohe_output_cols + numeric_cols\n",
        "vec_assembler = VectorAssembler(inputCols=assembler_inputs, outputCol=\"features\")\n",
        "\n",
        "## Linear regression\n",
        "from pyspark.ml.regression import LinearRegression\n",
        "\n",
        "lr = LinearRegression(labelCol=\"price\", featuresCol=\"features\")\n",
        "\n",
        "## Pipeline\n",
        "from pyspark.ml import Pipeline\n",
        "\n",
        "stages = [string_indexer, ohe_encoder, vec_assembler, lr]\n",
        "pipeline = Pipeline(stages=stages)\n",
        "\n",
        "pipeline_model = pipeline.fit(train_df)\n",
        "\n",
        "## Saving the model\n",
        "pipeline_model.write().overwrite().save(working_dir)\n",
        "\n",
        "## Loading the model\n",
        "from pyspark.ml import PipelineModel\n",
        "\n",
        "saved_pipeline_model = PipelineModel.load(working_dir)\n",
        "\n",
        "## Apply model to test data\n",
        "pred_df = saved_pipeline_model.transform(test_df)\n",
        "\n",
        "display(pred_df.select(\"features\", \"price\", \"prediction\"))\n",
        "\n",
        "## Evaluate Model\n",
        "from pyspark.ml.evaluation import RegressionEvaluator\n",
        "\n",
        "regression_evaluator = RegressionEvaluator(predictionCol=\"prediction\", labelCol=\"price\", metricName=\"rmse\")\n",
        "\n",
        "rmse = regression_evaluator.evaluate(pred_df)\n",
        "r2 = regression_evaluator.setMetricName(\"r2\").evaluate(pred_df)\n",
        "print(f\"RMSE is {rmse}\")\n",
        "print(f\"R2 is {r2}\")\n",
        "\n",
        "## Linear Regression II Lab\n",
        "\n",
        "## RFormula\n",
        "from pyspark.ml import Pipeline\n",
        "from pyspark.ml.feature import RFormula\n",
        "from pyspark.ml.regression import LinearRegression\n",
        "from pyspark.ml.evaluation import RegressionEvaluator\n",
        "r_formula = RFormula(\n",
        "    formula=\"price ~ .\", # want to take all the features\n",
        "    featuresCol=\"features\",\n",
        "    labelCol=\"label\")\n",
        "\n",
        "lr = LinearRegression(labelCol=\"price\", featuresCol=\"features\")\n",
        "stages = [r_formula, lr]\n",
        "pipeline = Pipeline(stages=stages)\n",
        "pipeline_model = pipeline.fit(train_df)\n",
        "pred_df = pipeline_model.transform(test_df)\n",
        "regression_evaluator = RegressionEvaluator(predictionCol=\"prediction\", labelCol=\"price\", metricName=\"rmse\")\n",
        "#regression_evaluator = RegressionEvaluator(<FILL_IN>)\n",
        "\n",
        "rmse = regression_evaluator.setMetricName(\"rmse\").evaluate(pred_df)\n",
        "r2 = regression_evaluator.setMetricName(\"r2\").evaluate(pred_df)\n",
        "print(f\"RMSE is {rmse}\")\n",
        "print(f\"R2 is {r2}\")"
      ]
    }
  ]
}